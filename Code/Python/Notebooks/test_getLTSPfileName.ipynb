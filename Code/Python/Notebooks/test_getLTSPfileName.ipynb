{
 "cells": [
  {
   "cell_type": "markdown",
   "metadata": {},
   "source": [
    "# TEST getLTSPfileName\n",
    "\n",
    "\n",
    "to see if the function that uses pandas, truncates the name"
   ]
  },
  {
   "cell_type": "code",
   "execution_count": 2,
   "metadata": {},
   "outputs": [],
   "source": [
    "import pandas as pd\n",
    "import xarray as xr"
   ]
  },
  {
   "cell_type": "code",
   "execution_count": 3,
   "metadata": {},
   "outputs": [],
   "source": [
    "## this is the getName function\n",
    "def getLTSPfileName(site, product=\"gridded\", QC=True, param=\"TEMP\", webURL=\"opendap\"):\n",
    "    '''\n",
    "    get the url of the LTSP files\n",
    "    \n",
    "    require: pandas\n",
    "    site: the site_code\n",
    "    product: product type )aggregated, hourly or gridded)\n",
    "    QC: for the hourly, include only good data (default True)\n",
    "    param: for aggregated product, parameter code as IMOS standard (e.g. TEMP)\n",
    "    webURL: web source of the file (S3: Amazon AWS (fastest), wget (AODN THREDDS, to download),\n",
    "            opendap (AODN THREDDS to open remotely)\n",
    "    E. Klein. eklein at ocean-analytics dot com dot au\n",
    "    '''\n",
    "    \n",
    "    if webURL == \"opendap\": \n",
    "        WEBROOT = 'http://thredds.aodn.org.au/thredds/dodsC/'\n",
    "    elif webURL == \"wget\":\n",
    "        WEBROOT = 'http://thredds.aodn.org.au/thredds/fileServer/'\n",
    "    elif webURL == \"S3\":\n",
    "        WEBROOT = 'https://s3-ap-southeast-2.amazon.com/imos-data/'\n",
    "    else:\n",
    "        print(\"ERROR: wrong webURL: it must be one of S3, opendap or wget\")\n",
    "\n",
    "  \n",
    "    urlGeoServer = \"http://geoserver-123.aodn.org.au/geoserver/ows?typeName=moorings_all_map&SERVICE=WFS&REQUEST=GetFeature&VERSION=1.0.0&outputFormat=csv&CQL_FILTER=(realtime='FALSE')and(site_code='\" + site + \"')\"\n",
    "    df = pd.read_csv(urlGeoServer)\n",
    "    url = df['url']\n",
    "    \n",
    "    #fileName = df$url[grepl(paste0(product,\"-timeseries\"), df$url)]\n",
    "    fileName = \"TEST\"\n",
    "    \n",
    "    \n",
    "    if product == \"gridded\": \n",
    "        fileName = url[url.str.contains(\"gridded\")]\n",
    "    elif product==\"velocity-hourly\":\n",
    "        fileName = url[url.str.contains(\"velocity-hourly\")]\n",
    "    elif product==\"hourly\":\n",
    "        if QC:\n",
    "            fileName = url[url.str.contains(\"(?<!velocity-)hourly-timeseries(?!-including)\", regex=True)]\n",
    "        else:\n",
    "            fileName = url[url.str.contains(\"including-non\")]\n",
    "    elif product==\"aggregated\":\n",
    "        fileName = url[url.str.contains(param) & url.str.contains(\"aggregated\")]\n",
    "    else:\n",
    "        print(\"ERROR: invalid combination of arguments or wrong names\")\n",
    "\n",
    "    \n",
    "    return WEBROOT + fileName.to_string(index=False, header=False).strip()\n",
    "\n"
   ]
  },
  {
   "cell_type": "markdown",
   "metadata": {},
   "source": [
    "## Now check is we get the full name\n"
   ]
  },
  {
   "cell_type": "code",
   "execution_count": 10,
   "metadata": {},
   "outputs": [
    {
     "name": "stdout",
     "output_type": "stream",
     "text": [
      "http://thredds.aodn.org.au/thredds/dodsC/IMOS/ANMN/NRS/NRSYON/hourly_timeseries/IMOS_ANMN-NRS_BOSTUZ_20080623_NRSYON_FV02_hourly-timeseries_END-20200804_C-20210428.nc\n"
     ]
    }
   ],
   "source": [
    "fileName = getLTSPfileName(site='NRSYON', product=\"hourly\", QC=True, param=\"TEMP\", webURL=\"opendap\")\n",
    "print(fileName)"
   ]
  },
  {
   "cell_type": "markdown",
   "metadata": {},
   "source": [
    "we can check what is the last character of the string: "
   ]
  },
  {
   "cell_type": "code",
   "execution_count": 12,
   "metadata": {},
   "outputs": [
    {
     "name": "stdout",
     "output_type": "stream",
     "text": [
      "c\n"
     ]
    }
   ],
   "source": [
    "print(fileName[-1])"
   ]
  },
  {
   "cell_type": "markdown",
   "metadata": {},
   "source": [
    "Now add a pandas option to avoid truncation:"
   ]
  },
  {
   "cell_type": "code",
   "execution_count": 7,
   "metadata": {},
   "outputs": [],
   "source": [
    "pd.set_option('display.max_colwidth', None) "
   ]
  },
  {
   "cell_type": "markdown",
   "metadata": {},
   "source": [
    "and then try it again:"
   ]
  },
  {
   "cell_type": "code",
   "execution_count": 8,
   "metadata": {},
   "outputs": [
    {
     "name": "stdout",
     "output_type": "stream",
     "text": [
      "http://thredds.aodn.org.au/thredds/dodsC/IMOS/ANMN/NRS/NRSYON/hourly_timeseries/IMOS_ANMN-NRS_BOSTUZ_20080623_NRSYON_FV02_hourly-timeseries_END-20200804_C-20210428.nc\n"
     ]
    }
   ],
   "source": [
    "fileName = getLTSPfileName(site='NRSYON', product=\"hourly\", QC=True, param=\"TEMP\", webURL=\"opendap\")\n",
    "print(fileName)"
   ]
  },
  {
   "cell_type": "markdown",
   "metadata": {},
   "source": [
    "## Conclusion: \n",
    "Is a pandas characteristic inside the notebooks that could be fixed using the above option"
   ]
  }
 ],
 "metadata": {
  "kernelspec": {
   "display_name": "Python 3",
   "language": "python",
   "name": "python3"
  },
  "language_info": {
   "codemirror_mode": {
    "name": "ipython",
    "version": 3
   },
   "file_extension": ".py",
   "mimetype": "text/x-python",
   "name": "python",
   "nbconvert_exporter": "python",
   "pygments_lexer": "ipython3",
   "version": "3.6.11"
  }
 },
 "nbformat": 4,
 "nbformat_minor": 4
}
