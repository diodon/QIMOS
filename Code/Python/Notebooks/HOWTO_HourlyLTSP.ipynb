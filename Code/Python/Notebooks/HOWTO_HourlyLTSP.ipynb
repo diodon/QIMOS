{
 "cells": [
  {
   "cell_type": "markdown",
   "metadata": {},
   "source": [
    "# IMOS long time series products\n",
    "## Hourly aggregated files\n",
    "*Eduardo Klein. Apr-2021*  \n",
    "\n"
   ]
  },
  {
   "cell_type": "markdown",
   "metadata": {},
   "source": [
    "This document presents the structure of the hourly aggregated long time series product, how to discover the file, interact with the data and plot some variables over the time/depth.  \n",
    "  \n",
    "  \n"
   ]
  },
  {
   "cell_type": "markdown",
   "metadata": {},
   "source": [
    "## File structure\n",
    "\n",
    "Normally, every instrument recovered from a mooring array represents an individual file in the [IMOS THREDDS server](http://thredds.aodn.org.au/thredds/catalog/IMOS/ANMN/catalog.html). This characteristic that facilitates the individual quality control and metadata handling pose some challenges for the analysis of long time series: \n",
    "\n",
    "- Many files for one time series\n",
    "- Instruments deployed to varying depths\n",
    "- Instruments sample at different times\n",
    "- Significant work and expert knowledge required to view and analyse time series\n",
    "- Different user groups need different products (gridded density, MLD, data combined from multiple sources, plots, etc…)\n",
    "\n",
    "The hourly aggregated product is a file that aggregates all the variables from one site into one-hour bins. \n",
    "\n",
    "The aggregated file is a netCDF 4 file organised in an [Indexed Ragged Array](http://cfconventions.org/cf-conventions/v1.6.0/cf-conventions.html#_indexed_ragged_array_representation) structure that follows the Climate-Forecast conventions and IMOS netCDF file conventions (*diagram by M. Hidas*): \n",
    "\n",
    "![Indexed Ragged Array](./img/indexedraggedarray.png)\n",
    "\n",
    "Some characteristics of this structure:\n",
    "\n",
    "- `TIME` is no longer a dimension. That means that the ordinary selecting and plotting methods for CF netCDF are no longer available. `TIME` is one of the variables in the file.\n",
    "- the dimensions of the file are `OBSERVATION` and `INSTRUMENT`. As the aggregation process combine instruments that normally have common timestamps, the time variable could have repeated values. Also each deployment (instrument) is identified by and index and the compound instrument name, make, serial. In this way it is easy to filter according to specific instruments.\n",
    "\n",
    "\n",
    "The aggregation takes the variable values half an hour before the hour and half an hour after the hour and reduce the variable values by calculating the mean or the median. Additional variables resulting from the aggregation process are also available in the file, as ancillary variables.\n",
    "\n",
    "![hourly aggregation](./img/BurstAveraging.png)\n",
    "\n"
   ]
  },
  {
   "cell_type": "code",
   "execution_count": null,
   "metadata": {},
   "outputs": [],
   "source": []
  },
  {
   "cell_type": "markdown",
   "metadata": {},
   "source": [
    "## Discovering the files"
   ]
  },
  {
   "cell_type": "markdown",
   "metadata": {},
   "source": [
    "One of the characteristics of the IMOS file naming convention is that the creation date is part of the file name. That means that every time the IMOS-AODN automatoc pipeline produces a new aggregated file for a site, the old file will be replaced by a new one with **a different name**. This could represent a challenge to access the file programatically and normally you need to go to the AODN THREDDS server and look for the new file name. \n",
    "\n",
    "Here is a function that helps you to discover the name of the most recent aggregated file. It requires the name of the site (`site_code`, like GBRCHH or NRSYON), the type of product (`product`: aggregated, hourly, or gridded), the `parameter` (only for type=aggregated, like `TEMP` or 'velocity'), QC level (only for hourly, only good data `QC` True), and the root of the URL `webURL`: 'S3': Amazon AWS (to download, fastest), 'wget' (AODN THREDDS, to download), 'opendap' (AODN THREDDS to open remotely).\n",
    "\n",
    "It returns the file name with the appropriate web prefix:\n",
    "\n",
    "(this function is also available as stand alone function)\n"
   ]
  },
  {
   "cell_type": "code",
   "execution_count": 74,
   "metadata": {},
   "outputs": [],
   "source": [
    "\n",
    "import pandas as pd\n",
    "\n",
    "pd.options.display.max_colwidth = 500\n",
    "\n",
    "def getLTSPfileName(site, product=\"gridded\", QC=True, param=\"TEMP\", webURL=\"opendap\"):\n",
    "    '''\n",
    "    get the url of the LTSP files\n",
    "    \n",
    "    require: pandas\n",
    "    site: the site_code\n",
    "    product: product type )aggregated, hourly or gridded)\n",
    "    QC: for the hourly, include only good data (default True)\n",
    "    param: for aggregated product, parameter code as IMOS standard (e.g. TEMP)\n",
    "    webURL: web source of the file (S3: Amazon AWS (fastest), wget (AODN THREDDS, to download),\n",
    "            opendap (AODN THREDDS to open remotely)\n",
    "    E. Klein. eklein at ocean-analytics dot com dot au\n",
    "    '''\n",
    "    \n",
    "    if webURL == \"opendap\": \n",
    "        WEBROOT = 'http://thredds.aodn.org.au/thredds/dodsC/'\n",
    "    elif webURL == \"wget\":\n",
    "        WEBROOT = 'http://thredds.aodn.org.au/thredds/fileServer/'\n",
    "    elif webURL == \"S3\":\n",
    "        WEBROOT = 'https://s3-ap-southeast-2.amazon.com/imos-data/'\n",
    "    else:\n",
    "        print(\"ERROR: wrong webURL: it must be one of S3, opendap or wget\")\n",
    "\n",
    "  \n",
    "    urlGeoServer = \"http://geoserver-123.aodn.org.au/geoserver/ows?typeName=moorings_all_map&SERVICE=WFS&REQUEST=GetFeature&VERSION=1.0.0&outputFormat=csv&CQL_FILTER=(realtime='FALSE')and(site_code='\" + site + \"')\"\n",
    "    df = pd.read_csv(urlGeoServer)\n",
    "    url = df['url']\n",
    "    \n",
    "    #fileName = df$url[grepl(paste0(product,\"-timeseries\"), df$url)]\n",
    "    fileName = \"TEST\"\n",
    "    \n",
    "    \n",
    "    if product == \"gridded\": \n",
    "        fileName = url[url.str.contains(\"gridded\")]\n",
    "    elif product==\"velocity-hourly\":\n",
    "        fileName = url[url.str.contains(\"velocity-hourly\")]\n",
    "    elif product==\"hourly\":\n",
    "        if QC:\n",
    "            fileName = url[url.str.contains(\"(?<!velocity-)hourly-timeseries(?!-including)\", regex=True)]\n",
    "        else:\n",
    "            fileName = url[url.str.contains(\"including-non\")]\n",
    "    elif product==\"aggregated\":\n",
    "        fileName = url[url.str.contains(param) & url.str.contains(\"aggregated\")]\n",
    "    else:\n",
    "        print(\"ERROR: invalid combination of arguments or wrong names\")\n",
    "\n",
    "    \n",
    "    return WEBROOT + fileName.to_string(index=False, header=False).strip()\n",
    "\n",
    "\n"
   ]
  },
  {
   "cell_type": "markdown",
   "metadata": {},
   "source": [
    "For example, lets get the file name of the aggregated hourly file for GBRCCH: \n"
   ]
  },
  {
   "cell_type": "code",
   "execution_count": 79,
   "metadata": {},
   "outputs": [
    {
     "name": "stdout",
     "output_type": "stream",
     "text": [
      "http://thredds.aodn.org.au/thredds/dodsC/IMOS/ANMN/QLD/GBRCCH/hourly_timeseries/IMOS_ANMN-QLD_BOSTZ_20070910_GBRCCH_FV02_hourly-timeseries_END-20201215_C-20210218.nc\n"
     ]
    }
   ],
   "source": [
    "pd.options.display.max_colwidth = 200\n",
    "fileName = getLTSPfileName(product=\"hourly\", site=\"GBRCCH\")\n",
    "print(fileName)"
   ]
  },
  {
   "cell_type": "markdown",
   "metadata": {},
   "source": [
    "This file could be open remotely using for example `xarray.open_dataset()`. See below."
   ]
  },
  {
   "cell_type": "markdown",
   "metadata": {},
   "source": [
    "## The file content"
   ]
  },
  {
   "cell_type": "markdown",
   "metadata": {},
   "source": [
    "As it was mentioned, all non-velocity or velocity parameter are aggregated into a single hourly file. Lets explore the content of the dataset. Using the `fileName` discovered above, we can open remotely the file from IMOS-AODN THREDDS server (you need an Internet conection):"
   ]
  },
  {
   "cell_type": "code",
   "execution_count": 89,
   "metadata": {},
   "outputs": [
    {
     "data": {
      "text/plain": [
       "<xarray.Dataset>\n",
       "Dimensions:           (INSTRUMENT: 178, OBSERVATION: 760988)\n",
       "Coordinates:\n",
       "    TIME              (OBSERVATION) datetime64[ns] ...\n",
       "    LONGITUDE         (INSTRUMENT) float64 ...\n",
       "    LATITUDE          (INSTRUMENT) float64 ...\n",
       "    NOMINAL_DEPTH     (INSTRUMENT) float32 ...\n",
       "Dimensions without coordinates: INSTRUMENT, OBSERVATION\n",
       "Data variables:\n",
       "    instrument_index  (OBSERVATION) int32 ...\n",
       "    instrument_id     (INSTRUMENT) |S64 ...\n",
       "    source_file       (INSTRUMENT) |S64 ...\n",
       "    DEPTH             (OBSERVATION) float32 ...\n",
       "    DEPTH_count       (OBSERVATION) float32 ...\n",
       "    DEPTH_min         (OBSERVATION) float32 ...\n",
       "    DEPTH_max         (OBSERVATION) float32 ...\n",
       "    DEPTH_std         (OBSERVATION) float32 ...\n",
       "    CHLU              (OBSERVATION) float32 ...\n",
       "    CHLU_count        (OBSERVATION) float32 ...\n",
       "    CHLU_max          (OBSERVATION) float32 ...\n",
       "    CHLU_min          (OBSERVATION) float32 ...\n",
       "    CHLU_std          (OBSERVATION) float32 ...\n",
       "    CPHL              (OBSERVATION) float32 ...\n",
       "    CPHL_count        (OBSERVATION) float32 ...\n",
       "    CPHL_max          (OBSERVATION) float32 ...\n",
       "    CPHL_min          (OBSERVATION) float32 ...\n",
       "    CPHL_std          (OBSERVATION) float32 ...\n",
       "    DOX               (OBSERVATION) float32 ...\n",
       "    DOX1              (OBSERVATION) float32 ...\n",
       "    DOX1_2            (OBSERVATION) float32 ...\n",
       "    DOX1_2_count      (OBSERVATION) float32 ...\n",
       "    DOX1_2_max        (OBSERVATION) float32 ...\n",
       "    DOX1_2_min        (OBSERVATION) float32 ...\n",
       "    DOX1_2_std        (OBSERVATION) float32 ...\n",
       "    DOX1_3            (OBSERVATION) float32 ...\n",
       "    DOX1_3_count      (OBSERVATION) float32 ...\n",
       "    DOX1_3_max        (OBSERVATION) float32 ...\n",
       "    DOX1_3_min        (OBSERVATION) float32 ...\n",
       "    DOX1_3_std        (OBSERVATION) float32 ...\n",
       "    DOX1_count        (OBSERVATION) float32 ...\n",
       "    DOX1_max          (OBSERVATION) float32 ...\n",
       "    DOX1_min          (OBSERVATION) float32 ...\n",
       "    DOX1_std          (OBSERVATION) float32 ...\n",
       "    DOX2              (OBSERVATION) float32 ...\n",
       "    DOX2_count        (OBSERVATION) float32 ...\n",
       "    DOX2_max          (OBSERVATION) float32 ...\n",
       "    DOX2_min          (OBSERVATION) float32 ...\n",
       "    DOX2_std          (OBSERVATION) float32 ...\n",
       "    DOX_count         (OBSERVATION) float32 ...\n",
       "    DOX_max           (OBSERVATION) float32 ...\n",
       "    DOX_min           (OBSERVATION) float32 ...\n",
       "    DOX_std           (OBSERVATION) float32 ...\n",
       "    PRES              (OBSERVATION) float32 ...\n",
       "    PRES_REL          (OBSERVATION) float32 ...\n",
       "    PRES_REL_count    (OBSERVATION) float32 ...\n",
       "    PRES_REL_max      (OBSERVATION) float32 ...\n",
       "    PRES_REL_min      (OBSERVATION) float32 ...\n",
       "    PRES_REL_std      (OBSERVATION) float32 ...\n",
       "    PRES_count        (OBSERVATION) float32 ...\n",
       "    PRES_max          (OBSERVATION) float32 ...\n",
       "    PRES_min          (OBSERVATION) float32 ...\n",
       "    PRES_std          (OBSERVATION) float32 ...\n",
       "    PSAL              (OBSERVATION) float32 ...\n",
       "    PSAL_count        (OBSERVATION) float32 ...\n",
       "    PSAL_max          (OBSERVATION) float32 ...\n",
       "    PSAL_min          (OBSERVATION) float32 ...\n",
       "    PSAL_std          (OBSERVATION) float32 ...\n",
       "    TEMP              (OBSERVATION) float32 ...\n",
       "    TEMP_count        (OBSERVATION) float32 ...\n",
       "    TEMP_max          (OBSERVATION) float32 ...\n",
       "    TEMP_min          (OBSERVATION) float32 ...\n",
       "    TEMP_std          (OBSERVATION) float32 ...\n",
       "Attributes:\n",
       "    Conventions:                 CF-1.6,IMOS-1.4\n",
       "    abstract:                    Hourly Time Series Product: This file contai...\n",
       "    acknowledgement:             Any users of IMOS data are required to clear...\n",
       "    author:                      Klein, Eduardo\n",
       "    author_email:                eduardo.kleinsalas@utas.edu.au\n",
       "    citation:                    The citation in a list of references is: \"IM...\n",
       "    contributor_email:           imos@imos.gov.au; adc@aims.gov.au; c.steinbe...\n",
       "    contributor_name:            Q-IMOS; Australian Institute of Marine Scien...\n",
       "    contributor_role:            principal_investigator; author; principal_in...\n",
       "    data_centre:                 Australian Ocean Data Network (AODN)\n",
       "    data_centre_email:           info@aodn.org.au\n",
       "    date_created:                2021-02-18T05:16:19Z\n",
       "    disclaimer:                  Data, products and services from IMOS are pr...\n",
       "    featureType:                 timeSeries\n",
       "    file_version:                Level 2 - Quality Controlled Data\n",
       "    generating_code_version:     1.4.3\n",
       "    geospatial_lat_max:          -22.2264833333\n",
       "    geospatial_lat_min:          -22.4091166667\n",
       "    geospatial_lon_max:          151.9950166667\n",
       "    geospatial_lon_min:          151.8046833333\n",
       "    geospatial_vertical_max:     132.7123260498047\n",
       "    geospatial_vertical_min:     5.1780314445495605\n",
       "    history:                     2021-02-18T05:16:19Z: Hourly aggregated file...\n",
       "    included_values_flagged_as:  Good_data, Probably_good_data\n",
       "    institution_references:      http://imos.org.au/facilities/aodn/\n",
       "    keywords:                    DEPTH, PRES_REL, TEMP, HOURLY, AGGREGATED\n",
       "    keywords_vocabulary:         IMOS parameter names. See https://github.com...\n",
       "    license:                     http://creativecommons.org/licenses/by/4.0/\n",
       "    lineage:                     The variables of interest (VoI) are produced...\n",
       "    naming_authority:            IMOS\n",
       "    project:                     Integrated Marine Observing System (IMOS)\n",
       "    references:                  http://www.imos.org.au\n",
       "    rejected_files:              \n",
       "    site_code:                   GBRCCH\n",
       "    source:                      Mooring\n",
       "    standard_name_vocabulary:    NetCDF Climate and Forecast (CF) Metadata Co...\n",
       "    time_coverage_end:           2020-12-15T00:00:00Z\n",
       "    time_coverage_start:         2007-09-10T07:00:00Z\n",
       "    title:                       Long time series Hourly Aggregated product: ...\n",
       "    DODS.strlen:                 256\n",
       "    DODS.dimName:                string256"
      ]
     },
     "execution_count": 89,
     "metadata": {},
     "output_type": "execute_result"
    }
   ],
   "source": [
    "import xarray as xr\n",
    "import numpy as np\n",
    "\n",
    "## lets use the fileName discovered above\n",
    "nc = xr.open_dataset(fileName)\n",
    "\n",
    "## print the file structure\n",
    "nc"
   ]
  },
  {
   "cell_type": "markdown",
   "metadata": {},
   "source": [
    "You will note that the file contains the IMOS standard global attributes with some additions related to the aggregation process:\n"
   ]
  },
  {
   "cell_type": "code",
   "execution_count": 83,
   "metadata": {},
   "outputs": [
    {
     "data": {
      "text/plain": [
       "odict_keys(['Conventions', 'abstract', 'acknowledgement', 'author', 'author_email', 'citation', 'contributor_email', 'contributor_name', 'contributor_role', 'data_centre', 'data_centre_email', 'date_created', 'disclaimer', 'featureType', 'file_version', 'generating_code_version', 'geospatial_lat_max', 'geospatial_lat_min', 'geospatial_lon_max', 'geospatial_lon_min', 'geospatial_vertical_max', 'geospatial_vertical_min', 'history', 'included_values_flagged_as', 'institution_references', 'keywords', 'keywords_vocabulary', 'license', 'lineage', 'naming_authority', 'project', 'references', 'rejected_files', 'site_code', 'source', 'standard_name_vocabulary', 'time_coverage_end', 'time_coverage_start', 'title', 'DODS.strlen', 'DODS.dimName'])"
      ]
     },
     "execution_count": 83,
     "metadata": {},
     "output_type": "execute_result"
    }
   ],
   "source": [
    "nc.attrs.keys()"
   ]
  },
  {
   "cell_type": "markdown",
   "metadata": {},
   "source": [
    "You can for example interrogate the attributes to know the time coverage of the data without actually accessing the data itself (note that the results are strings, not date objects):"
   ]
  },
  {
   "cell_type": "code",
   "execution_count": 84,
   "metadata": {},
   "outputs": [
    {
     "name": "stdout",
     "output_type": "stream",
     "text": [
      "2007-09-10T07:00:00Z\n",
      "2020-12-15T00:00:00Z\n"
     ]
    }
   ],
   "source": [
    "print(nc.time_coverage_start)\n",
    "print(nc.time_coverage_end)"
   ]
  },
  {
   "cell_type": "raw",
   "metadata": {},
   "source": [
    "Or the location:\n"
   ]
  },
  {
   "cell_type": "code",
   "execution_count": 113,
   "metadata": {},
   "outputs": [
    {
     "data": {
      "text/html": [
       "<div style=\"width:100%;\"><div style=\"position:relative;width:100%;height:0;padding-bottom:60%;\"><iframe src=\"data:text/html;charset=utf-8;base64,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\" style=\"position:absolute;width:100%;height:100%;left:0;top:0;border:none !important;\" allowfullscreen webkitallowfullscreen mozallowfullscreen></iframe></div></div>"
      ],
      "text/plain": [
       "<folium.folium.Map at 0x7f1ebf60e208>"
      ]
     },
     "execution_count": 113,
     "metadata": {},
     "output_type": "execute_result"
    }
   ],
   "source": [
    "import folium\n",
    "meanLat = np.mean([nc.geospatial_lat_min, nc.geospatial_lat_max])\n",
    "meanLon = np.mean([nc.geospatial_lon_min, nc.geospatial_lon_max])\n",
    "m = folium.Map(location=[meanLat, meanLon], tiles=\"OpenStreetMap\", zoom_start=8)\n",
    "folium.Marker(\n",
    "    location=[meanLat, meanLon],\n",
    "    popup=nc.site_code,\n",
    "    icon=folium.Icon(color=\"blue\", icon=\"info-sign\")\n",
    ").add_to(m)\n",
    "\n",
    "m"
   ]
  },
  {
   "cell_type": "markdown",
   "metadata": {},
   "source": [
    "## Slicing the data"
   ]
  },
  {
   "cell_type": "code",
   "execution_count": null,
   "metadata": {},
   "outputs": [],
   "source": []
  },
  {
   "cell_type": "markdown",
   "metadata": {},
   "source": [
    "## Plotting"
   ]
  }
 ],
 "metadata": {
  "kernelspec": {
   "display_name": "Python 3",
   "language": "python",
   "name": "python3"
  },
  "language_info": {
   "codemirror_mode": {
    "name": "ipython",
    "version": 3
   },
   "file_extension": ".py",
   "mimetype": "text/x-python",
   "name": "python",
   "nbconvert_exporter": "python",
   "pygments_lexer": "ipython3",
   "version": "3.6.11"
  }
 },
 "nbformat": 4,
 "nbformat_minor": 4
}
